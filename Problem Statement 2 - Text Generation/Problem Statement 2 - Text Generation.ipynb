{
 "cells": [
  {
   "cell_type": "markdown",
   "id": "a4c1d87c",
   "metadata": {},
   "source": [
    "## Problem Statement 2 - Text Generation"
   ]
  },
  {
   "cell_type": "markdown",
   "id": "94d07631",
   "metadata": {},
   "source": [
    "- Create a basic text generation model using a pre-trained transformer"
   ]
  },
  {
   "cell_type": "code",
   "execution_count": 1,
   "id": "9759a1d9",
   "metadata": {},
   "outputs": [],
   "source": [
    "from transformers import GPT2LMHeadModel, GPT2Tokenizer"
   ]
  },
  {
   "cell_type": "code",
   "execution_count": 20,
   "id": "50b0b9eb",
   "metadata": {},
   "outputs": [],
   "source": [
    "def generate_text(prompt, model_name='gpt2', max_length=150):\n",
    "    # Load the tokenizer for the given model\n",
    "    tokenizer = GPT2Tokenizer.from_pretrained(model_name)\n",
    "    \n",
    "    # Load the pre-trained GPT-2 model, using eos_token_id as the pad token\n",
    "    model = GPT2LMHeadModel.from_pretrained(model_name, pad_token_id=tokenizer.eos_token_id)\n",
    "\n",
    "    # Encode the input prompt into token IDs\n",
    "    numeric_ids = tokenizer.encode(prompt, return_tensors='pt')\n",
    "\n",
    "    # Generate text using beam search with no repeating n-grams\n",
    "    result = model.generate(\n",
    "        numeric_ids,\n",
    "        max_length=max_length,  # Limit the length of the generated text\n",
    "        num_beams=5,            # Use beam search for better results\n",
    "        no_repeat_ngram_size=2,  # Prevent repetition of n-grams\n",
    "        early_stopping=True      # Stop early if all beams reach the EOS token\n",
    "    )\n",
    "    \n",
    "    # Decode the generated token IDs back into text\n",
    "    generated_text = tokenizer.decode(result[0], skip_special_tokens=True)\n",
    "    \n",
    "    return generated_text  # Return the generated text"
   ]
  },
  {
   "cell_type": "code",
   "execution_count": 21,
   "id": "dac3ae11",
   "metadata": {},
   "outputs": [
    {
     "name": "stdout",
     "output_type": "stream",
     "text": [
      "Once upon a time, there was no such thing as a man who was not a member of the Church of Jesus Christ of Latter-day Saints.\n",
      "\n",
      "The Church was founded by Joseph Smith, the Prophet of Mormonism, and his wife, Lucy Mack Smith. They were the first women to be ordained to the priesthood. The Church's first president, Joseph Fielding Smith Jr., was born in Nauvoo, Illinois, in 1844. He was the youngest of five children. His father was a Methodist minister and the other two were members of his church. Joseph was raised by his mother and grandmother in a small town in Illinois. When he was three years old, his father died of a heart attack, leaving him with two sisters.\n"
     ]
    }
   ],
   "source": [
    "prompt = \"Once upon a time,\" # Define a prompt for text generation\n",
    "generated_text = generate_text(prompt)\n",
    "print(generated_text)"
   ]
  },
  {
   "cell_type": "code",
   "execution_count": null,
   "id": "fe0d9eaf",
   "metadata": {},
   "outputs": [],
   "source": []
  }
 ],
 "metadata": {
  "kernelspec": {
   "display_name": "Python 3 (ipykernel)",
   "language": "python",
   "name": "python3"
  },
  "language_info": {
   "codemirror_mode": {
    "name": "ipython",
    "version": 3
   },
   "file_extension": ".py",
   "mimetype": "text/x-python",
   "name": "python",
   "nbconvert_exporter": "python",
   "pygments_lexer": "ipython3",
   "version": "3.10.13"
  }
 },
 "nbformat": 4,
 "nbformat_minor": 5
}
