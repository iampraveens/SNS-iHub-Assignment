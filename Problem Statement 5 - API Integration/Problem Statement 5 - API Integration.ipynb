{
 "cells": [
  {
   "cell_type": "markdown",
   "id": "03843f77",
   "metadata": {},
   "source": [
    "## Problem Statement 5: Live Coding Session - API Integration"
   ]
  },
  {
   "cell_type": "markdown",
   "id": "61db8c54",
   "metadata": {},
   "source": [
    "-  Develop a Python script to integrate with an external API and fetch data based on user input"
   ]
  },
  {
   "cell_type": "code",
   "execution_count": 1,
   "id": "fe69d559",
   "metadata": {},
   "outputs": [],
   "source": [
    "import requests"
   ]
  },
  {
   "cell_type": "code",
   "execution_count": 2,
   "id": "4d17dede",
   "metadata": {},
   "outputs": [
    {
     "name": "stdout",
     "output_type": "stream",
     "text": [
      "Enter the country name to get information: India\n",
      "Information about India:\n",
      "Capital: New Delhi\n",
      "Population: 1380004385\n",
      "Area: 3287590.0 sq. km\n",
      "Region: Asia\n",
      "Languages: English, Hindi, Tamil\n",
      "Currencies: Indian rupee (₹)\n"
     ]
    }
   ],
   "source": [
    "# Function to fetch country data from the REST Countries API\n",
    "def fetch_country_info(country_name):\n",
    "    # Define the endpoint URL\n",
    "    base_url = f\"https://restcountries.com/v3.1/name/{country_name}\"\n",
    "\n",
    "    try:\n",
    "        # Make a GET request to the API\n",
    "        response = requests.get(base_url)\n",
    "        \n",
    "        # Check if the request was successful (status code 200)\n",
    "        if response.status_code == 200:\n",
    "            data = response.json()  # Parse JSON response\n",
    "            \n",
    "            # Extract the first result (in case of multiple matches)\n",
    "            country = data[0]\n",
    "\n",
    "            # Extract relevant information\n",
    "            name = country.get('name', {}).get('common', 'N/A')\n",
    "            capital = country.get('capital', ['N/A'])[0]\n",
    "            population = country.get('population', 'N/A')\n",
    "            area = country.get('area', 'N/A')\n",
    "            region = country.get('region', 'N/A')\n",
    "            languages = country.get('languages', {}).values()\n",
    "            currency_info = country.get('currencies', {}).values()\n",
    "            \n",
    "            # Prepare a user-friendly currency string\n",
    "            currencies = ', '.join([f\"{currency['name']} ({currency['symbol']})\" for currency in currency_info])\n",
    "\n",
    "            # Display the data in a user-friendly format\n",
    "            print(f\"Information about {name}:\")\n",
    "            print(f\"Capital: {capital}\")\n",
    "            print(f\"Population: {population}\")\n",
    "            print(f\"Area: {area} sq. km\")\n",
    "            print(f\"Region: {region}\")\n",
    "            print(f\"Languages: {', '.join(languages) if languages else 'N/A'}\")\n",
    "            print(f\"Currencies: {currencies if currencies else 'N/A'}\")\n",
    "        else:\n",
    "            # Handle errors with non-200 status codes\n",
    "            print(f\"Error: Unable to fetch country data (Status code: {response.status_code})\")\n",
    "            if response.status_code == 404:\n",
    "                print(\"Country not found. Please check the country name and try again.\")\n",
    "            else:\n",
    "                print(f\"API returned an error: {response.json().get('message', 'Unknown error')}\")\n",
    "    \n",
    "    except requests.exceptions.RequestException as e:\n",
    "        # Handle network-related errors (e.g., DNS failure, refused connection)\n",
    "        print(f\"Error: Unable to make the API request. {str(e)}\")\n",
    "\n",
    "\n",
    "# Main function to get user input and call the fetch_country_info function\n",
    "def main():\n",
    "    # Get country name input from the user\n",
    "    country_name = input(\"Enter the country name to get information: \")\n",
    "\n",
    "    # Fetch and display the country data\n",
    "    fetch_country_info(country_name)\n",
    "\n",
    "\n",
    "if __name__ == \"__main__\":\n",
    "    main()"
   ]
  },
  {
   "cell_type": "code",
   "execution_count": null,
   "id": "f37e99b1",
   "metadata": {},
   "outputs": [],
   "source": []
  }
 ],
 "metadata": {
  "kernelspec": {
   "display_name": "Python 3 (ipykernel)",
   "language": "python",
   "name": "python3"
  },
  "language_info": {
   "codemirror_mode": {
    "name": "ipython",
    "version": 3
   },
   "file_extension": ".py",
   "mimetype": "text/x-python",
   "name": "python",
   "nbconvert_exporter": "python",
   "pygments_lexer": "ipython3",
   "version": "3.10.13"
  }
 },
 "nbformat": 4,
 "nbformat_minor": 5
}
