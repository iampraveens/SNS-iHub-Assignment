{
 "cells": [
  {
   "cell_type": "markdown",
   "id": "bb66f076",
   "metadata": {},
   "source": [
    "## Problem Statement 1: Natural Language Processing (NLP)"
   ]
  },
  {
   "cell_type": "markdown",
   "id": "248a798a",
   "metadata": {},
   "source": [
    "- Implement a function to preprocess and tokenize text data"
   ]
  },
  {
   "cell_type": "code",
   "execution_count": 2,
   "id": "e8a028d1",
   "metadata": {},
   "outputs": [],
   "source": [
    "import spacy\n",
    "\n",
    "# Load spaCy's small English language model\n",
    "nlp = spacy.load('en_core_web_sm')"
   ]
  },
  {
   "cell_type": "code",
   "execution_count": 7,
   "id": "d962209b",
   "metadata": {},
   "outputs": [
    {
     "name": "stdout",
     "output_type": "stream",
     "text": [
      "[hi, example, phrase]\n"
     ]
    }
   ],
   "source": [
    "def preprocess_and_tokenize(text):\n",
    "    \n",
    "    # Convert text to lowercase and process it\n",
    "    doc = nlp(text.lower())\n",
    "\n",
    "    # List to store filtered tokens\n",
    "    filtered_tokens = []\n",
    "    \n",
    "    # Filter out stop words and non-alphabetic tokens\n",
    "    for word in doc:\n",
    "        if word.is_alpha and not word.is_stop:\n",
    "            filtered_tokens.append(word) # Use word to append the string version of the token\n",
    "            \n",
    "    return filtered_tokens\n",
    "\n",
    "# Example usage\n",
    "text = \"Hi, Everyone! This is an example phrase.\"\n",
    "tokens = preprocess_and_tokenize(text)\n",
    "print(tokens)"
   ]
  },
  {
   "cell_type": "code",
   "execution_count": null,
   "id": "270ae846",
   "metadata": {},
   "outputs": [],
   "source": []
  }
 ],
 "metadata": {
  "kernelspec": {
   "display_name": "Python 3 (ipykernel)",
   "language": "python",
   "name": "python3"
  },
  "language_info": {
   "codemirror_mode": {
    "name": "ipython",
    "version": 3
   },
   "file_extension": ".py",
   "mimetype": "text/x-python",
   "name": "python",
   "nbconvert_exporter": "python",
   "pygments_lexer": "ipython3",
   "version": "3.10.13"
  }
 },
 "nbformat": 4,
 "nbformat_minor": 5
}
